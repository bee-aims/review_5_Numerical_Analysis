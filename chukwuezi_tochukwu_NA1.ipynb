{
 "cells": [
  {
   "cell_type": "markdown",
   "metadata": {},
   "source": [
    "# Numerical Analysis: Assignment 1"
   ]
  },
  {
   "cell_type": "markdown",
   "metadata": {},
   "source": [
    "## Exercise 1: $LU$ decomposition (5 + 3 + 3 points)\n",
    "\n",
    "Prove the following statements:\n",
    "\n",
    "1. If $A \\in \\mathbb R^{n \\times n}$ is a regular upper (lower) triangular matrix, then $A^{-1}$ is an upper (lower) triangular matrix and\n",
    "   $$ (A^{-1})_{ii} = 1 / (A)_{ii} \\qquad \\text{for all} i \\in \\{1, \\dots, n\\}. $$\n",
    "   **Hint:** Write $A^{-1}$ using the [adjugate matrix](https://en.wikipedia.org/wiki/Adjugate_matrix).\n",
    "\n",
    "2. The product of upper (lower) triangular matrices is a triangular matrix. If the diagonal entries of all matrices in the product are equal to $1$, then the product matrix will have diagonal entries equal to $1$.\n",
    "\n",
    "3. The $LU$ decomposition of a non-singular matrix $A \\in \\mathbb R^{n \\times n}$ is unique.  \n",
    "   **Hint:** You can use the parts 1. and 2."
   ]
  },
  {
   "cell_type": "markdown",
   "metadata": {},
   "source": [
    "# $\\text{Solution 1}$"
   ]
  },
  {
   "cell_type": "markdown",
   "metadata": {},
   "source": [
    "### $1.1 \\quad \\text{Inverse of a an L or U Triangular Matrix is an L or U Triangular Matrix}$"
   ]
  },
  {
   "cell_type": "markdown",
   "metadata": {},
   "source": [
    "**First Part: A is same-triangular with $A^{-1}$**\n",
    "\n",
    "Using the adjucate method,\n",
    "\n",
    "$$\n",
    "A^{-1} = \\frac{1}{\\det(A)}\\text{adj}(A)\n",
    "$$\n",
    "\n",
    "Where $\\text{adj}(A) = C^T$, $C$ being the cofactor matrix defined as\n",
    "\n",
    "$$\n",
    "C_{ij} = ((-1)^{i+j}M_{ij})_{1\\le i,j \\le n}\n",
    "$$\n",
    "\n",
    "And $M$ is the $ij^{th}$ minor, a determinant obtained by removing the $i^{th}$ and $j^{th}$ row and column respectively of $A$.\n",
    "\n",
    "Let's take $A$ to be a $\\texttt{upper triangular}$ matrix whose structure is of the form\n",
    "\n",
    "$$\n",
    "A = \\begin{pmatrix}\n",
    "a_{11} & a_{12} & a_{13} & \\cdots & a_{1n} \\\\\n",
    "0 & a_{22} & a_{23} & \\cdots & a_{2n} \\\\\n",
    "0 & 0 & a_{33} & \\cdots & a_{3n} \\\\\n",
    "\\vdots & \\vdots & \\vdots & \\ddots & \\vdots \\\\\n",
    "0 & 0 & 0 & \\cdots & a_{nn}\n",
    "\\end{pmatrix}\n",
    "$$\n",
    "\n",
    "We can see that it's determinant (for a triangular matrix) is infact the product of it's diagonal elements as\n",
    "\n",
    "$$\n",
    "\\det(A) = \\prod_{r = 1}^{n} a_{rr} = a_{11}a_{22}a_{33} \\cdots a_{nn}\n",
    "$$\n",
    "\n",
    "We consider that since $A$ is invertible, $(A)_{ii} \\ne 0\\quad \\forall i$ and hence $\\det(A) \\ne 0$.\n",
    "\n",
    "Since $A$ is upper triangular (for instance), $A_{ij} = 0$  for  $i > j$ (i.e., for all elements below the leading diagonal).\n",
    "\n",
    "Computing $M_{ij}$, we find out that $M_{ij} = 0$ for $i < j$ (i.e., for all elements above the leading diagonal).\n",
    "\n",
    "Hence, we can see that\n",
    "\n",
    "$$\n",
    "    C_{ij} = (-1)^{i+j}M_{ij} = 0 \\quad {i < j} \\quad \\text{i.e., for all elements above the leading diagonal}\n",
    "$$\n",
    "\n",
    "Since $\\text{adj}(A) = C^T$, then $\\text{adj}(A)_{ij} = 0$ (i.e., for all below the leading diagonal).\n",
    "\n",
    "Since\n",
    "\n",
    "$$\n",
    "A^{-1} = \\frac{1}{\\det(A)}\\text{adj}(A)\n",
    "$$\n",
    "\n",
    "Then $A^{-1}$ behaves like $\\text{adj}(A)$ (because the constant $\\frac{1}{\\det(A)}$ does not affect the triangularity of $A$), then $A^{-1}$ has zeros in all positions below the leading diagonal. Hence $A^{-1}$ is $\\texttt{upper triangular}$ just like $A$.\n",
    "\n",
    "$\\blacksquare$\n",
    "\n",
    "**Second Part: Reciprocal of diagonals bewteen triangular A and its $A^{-1}$**\n",
    "\n",
    "One part we did not consider in the proof above is when, for an upper trianular matrix, what the Minor will be?\n",
    "\n",
    "What is $M_{ij}$ when $i = j$. Infact, we can demonstrate that\n",
    "\n",
    "$$\n",
    "M_{ii} = \\prod_{\\substack{r = 1 \\\\ r \\ne i}}^{n} a_{rr} = \\frac{1}{a_{ii}}\\det(A)\n",
    "$$\n",
    "\n",
    "Hence,\n",
    "\n",
    "$$\n",
    "C_{ii} = (-1)^{2i} M_{ii} = M_{ii} = \\frac{1}{a_{ii}}\\det(A)\n",
    "$$\n",
    "\n",
    "Hence, we can see that\n",
    "\n",
    "$$\n",
    "(A^{-1})_{ii} = \\frac{1}{\\det{(A)}}\\text{adj}(A) = \\frac{1}{\\det{(A)}}C_{ii}^T = \\frac{1}{\\det{A}}C_{ii} = \\frac{1}{\\det{(A)}} \\cdot \\frac{1}{a_{ii}}\\det(A) = \\frac{1}{a_{ii}} \\quad \\forall i \\in \\{1, 2, \\cdots, n\\}.\n",
    "$$\n",
    "\n",
    "$\\blacksquare$"
   ]
  },
  {
   "cell_type": "markdown",
   "metadata": {},
   "source": [
    "### $1.2 \\quad \\text{Product of two Similar Triangular Matrix is also a Similar Triangle Product}$"
   ]
  },
  {
   "cell_type": "markdown",
   "metadata": {},
   "source": [
    "**First Part: General Product**\n",
    "\n",
    "Let $P = AB$, where $A, B, \\in \\mathbb{M}^{n\\times n}$. \n",
    "\n",
    "We know from matrix products that\n",
    "\n",
    "$$\n",
    "P_{ij} = \\sum_{k = 1}^{n} A_{ik}B_{kj} \n",
    "$$\n",
    "\n",
    "Suppose $A$ and $B$ are both $\\texttt{upper triangular}$, then\n",
    "\n",
    "$$\n",
    "A_{ij} = B_{ij} = 0 \\qquad \\forall \\quad i > j\n",
    "$$\n",
    "\n",
    "By extension of upper triangularity,\n",
    "\n",
    "$$\n",
    "A_{ik} = 0 \\quad \\text{ if } i > k \\qquad \\text{ and } \\quad B_{kj} = 0 \\text{ if } k > j \n",
    "$$\n",
    "\n",
    "We know from number theory that if $i>k$ and $k>j$ then $i>j$, hence\n",
    "\n",
    "$$\n",
    "P_{ij} = \\sum_{k}A_{ik}B_{kj} = 0 \\quad \\forall \\quad i > 0\n",
    "$$\n",
    "\n",
    "This implies that $P \\in \\mathbb{M}^{n\\times n}$ is also $\\texttt{upper triangular}$.\n",
    "\n",
    "\n",
    "**Second Part: Unit Diagonal of Both Matrices Before Product Implies Unit Diagonal After Product**\n",
    "\n",
    "Supposing $A$ and $B$ are $\\texttt{upper triangular}$ if the diagonal entries of $A$ and $B$ are unity, then\n",
    "\n",
    "$$\n",
    "A_{ii} = B_{ii} = 1\n",
    "$$\n",
    "\n",
    "If $i = j$, then\n",
    "\n",
    "$$\n",
    "P_{ii} = \\sum_{k}A_{ik}B_{ki}\n",
    "$$\n",
    "\n",
    "But $B_{ki} = 0$ for $k \\ne i$ since it is upper triangular, and $A_{ik} = B_{ki} = 1$ if and only if $k = i$. Hence the product\n",
    "\n",
    "$$\n",
    "P_{ii} = \\sum_{k}A_{ik}B_{ki} = A_{ii}B_{ii} + \\text{(Zeros)} = a_{ii}b_{ii} = 1\\times 1 = 1\n",
    "$$\n",
    "\n",
    "Hence, $P$ is $\\texttt{upper triangular}$. The same reasoning applies when $A$ and $B$ are $\\texttt{lower triangular}$.\n",
    "\n",
    "$\\blacksquare$"
   ]
  },
  {
   "cell_type": "markdown",
   "metadata": {},
   "source": [
    "### $1.3 \\quad \\text{LU Decomposition of a Matrix is Unique}$"
   ]
  },
  {
   "cell_type": "markdown",
   "metadata": {},
   "source": [
    "We want to show that if $A \\in \\mathbb{M}^{n \\times n}$\n",
    "$$\n",
    "A = LU\n",
    "$$\n",
    "\n",
    "Then there is no other $L_{s}$ and $U_{s}$ both $\\in \\mathbb{M}^{n \\times n}$ such that $A = L_s U_s$. If at all $L_s, U_s$, exists, then $L_s = L$ and $U_s = U$.\n",
    "\n",
    "Let's suppose that $L_s$ and $U_s$ exists such that\n",
    "\n",
    "$$\n",
    "A = LU = L_s U_s\n",
    "$$\n",
    "\n",
    "Then,\n",
    "\n",
    "$$L_s U_s = L U$$\n",
    "\n",
    "Post-multiplying both sides by $U_s^{-1}$, we get\n",
    "\n",
    "$$\n",
    "L_s U_s U_s^{-1} = L UU_s^{-1}\\quad  \\implies \\quad L_s I = Ls = L U U_s^{-1}\n",
    "$$\n",
    "\n",
    "We know the following\n",
    "\n",
    "- $U_s^{-1}$ is invertible.\n",
    "- $U U_s^{-1}$ is also an upper triangle (as seen in proof 2). For the left hand side to agree, $UU_{s}^{-1}$ is not just an upper triangular matrix, but an upper and lower triangular matrix whose diagonals are all $1$. In fact, $UU_{s}^{-1} = I$.\n",
    "\n",
    "Therefore,\n",
    "\n",
    "$$\n",
    "L_s = L I= L\n",
    "$$\n",
    "\n",
    "$$\n",
    "L_s = L \\quad \\implies \\quad L = L_s\n",
    "$$\n",
    "\n",
    "The same can be done to recover\n",
    "\n",
    "$$\n",
    "U_s \\iff U\n",
    "$$\n",
    "\n",
    "Hence $L$ and $U$ are unique.\n",
    "\n",
    "$\\blacksquare$"
   ]
  },
  {
   "cell_type": "markdown",
   "metadata": {},
   "source": [
    "## Exercise 2: Fixed point iteration (3 + 4 points)\n",
    "\n",
    "Let us consider the equation\n",
    "\n",
    "$$ x + \\ln x = 0. $$\n",
    "\n",
    "It has a unique solution $x^\\ast$ in $[0.5,0.6]$. The initial iterate $x^0$ is located within this interval.\n",
    "\n",
    "1. To approximate the solution, we consider the three iteration schemes\n",
    "   $$ x^{k+1} = - \\ln (x^k), \\qquad x^{k+1} = \\exp(- x^k), \\qquad x^{k+1} = \\tfrac12 (x^k + \\exp(-x^k) ). $$\n",
    "   Which of this schemes is locally at least linearly convergent?\n",
    "\n",
    "2. In what follows, we consider the methods\n",
    "   $$ x^{k+1} = \\frac{a x^k +  \\exp(- x^k)}{a+1} \\qquad \\text{ and } \\qquad x^{k+1} = \\frac{a_k x^k +  \\exp(- x^k)}{a_k+1}. $$\n",
    "   Here, the parameter $a_k = a(x^k)$ may depend on $x^k$. Choose $a$ in the first method and $a_k$ in the second method such that you generate a scheme that is at least second order convergent. (The second scheme should also be computable!)"
   ]
  },
  {
   "cell_type": "markdown",
   "metadata": {},
   "source": [
    "# $\\text{Solution 2}$"
   ]
  },
  {
   "cell_type": "markdown",
   "metadata": {},
   "source": [
    "### $2.0 \\quad \\text{A Plot of the Function}$"
   ]
  },
  {
   "cell_type": "markdown",
   "metadata": {},
   "source": [
    "We plot the graph of \n",
    "$$\n",
    "x + \\ln(x) = 0\n",
    "$$"
   ]
  },
  {
   "cell_type": "code",
   "execution_count": 181,
   "metadata": {},
   "outputs": [
    {
     "data": {
      "image/png": "[encoded data removed]",
      "text/plain": [
       "<Figure size 720x432 with 1 Axes>"
      ]
     },
     "metadata": {
      "needs_background": "light"
     },
     "output_type": "display_data"
    }
   ],
   "source": [
    "import numpy as np\n",
    "import matplotlib.pyplot as plt\n",
    "import scipy.optimize as opt\n",
    "\n",
    "def p(x):\n",
    "    return x\n",
    "\n",
    "def q(x):\n",
    "    return -np.log(x)\n",
    "\n",
    "# We want to find the intersection (solve x + ln(x) = 0)\n",
    "def equation(x):\n",
    "    return x + np.log(x)\n",
    "\n",
    "root = opt.fsolve(equation, 1)  # Starting with an initial guess near 1\n",
    "\n",
    "x = np.linspace(0.01, 5, 500)\n",
    "\n",
    "# Plot functions\n",
    "plt.figure(figsize=(10, 6))\n",
    "plt.plot(x, p(x), label=r\"$p(x) = x$\")\n",
    "plt.plot(x, q(x), label=r\"$q(x) = -\\ln(x)$\")\n",
    "\n",
    "# Marking the intersection point\n",
    "plt.axvline(root[0], color='red', linestyle='dashed', label=f'Intersection at x ≈ {root[0]:.4f}')\n",
    "\n",
    "# Labels and grid\n",
    "plt.title(r\"Intersection of $x + \\ln(x) = 0$\")\n",
    "plt.axhline(0, color=\"black\", linewidth=0.5)\n",
    "plt.axvline(0, color=\"black\", linewidth=0.5)\n",
    "plt.legend()\n",
    "plt.grid()\n",
    "plt.show()\n"
   ]
  },
  {
   "cell_type": "markdown",
   "metadata": {},
   "source": [
    "We realize the root of this function is $0.5671$"
   ]
  },
  {
   "cell_type": "markdown",
   "metadata": {},
   "source": [
    "### $2.1 \\quad \\text{Local Linear Convergence}$ 💡"
   ]
  },
  {
   "cell_type": "markdown",
   "metadata": {},
   "source": [
    "#### $\\textbf{Theorem: local convergence}$\n",
    "\n",
    "Let $\\xi$ be a fixed point of $f : \\mathbb R \\to \\mathbb R$ and suppose that $f$ is continuously differentiable near $\\xi$. If $|f'(\\xi)| < 1$, then there is an open interval $I$ containing $\\xi$ such that the sequence $x_{n+1} = f(x_{n})$ converges to $\\xi$ for any initial guess $x_0 \\in I$.\n",
    "\n",
    "\n",
    "#### $\\textbf{Theorem: local _linear_ convergence}$\n",
    "\n",
    "Let $f$, $\\xi$ and $I$ be as in the local convergence theorem.\n",
    "Suppose that $f'(\\xi) \\ne 0$. Then the sequence $x_{n+1} = f(x_{n})$ converges linearly to $\\xi$ for any initial guess $x_0 \\in I$."
   ]
  },
  {
   "cell_type": "markdown",
   "metadata": {},
   "source": [
    "#### $\\textbf{Analysis Using Theorem}$ \n",
    "\n",
    "Using the conditions above, we will test each schemes $x_{n+1} = f(x_n)$ with the conditions for local linear convergence above, we will test each for \n",
    "\n",
    "$$\n",
    "|f^{'}(x^{*})| < 1\n",
    "$$\n",
    "\n",
    "Which should at least be sufficient to tell us if $f$ is locally linear convergent for $ x^{*} \\approx 0.56 \\in I = [0.5, 0.6]$. Recall from the plot how we found $x^{*}$.\n",
    "\n",
    "Starting with $f(x) = -\\ln(x)$, we have that\n",
    "\n",
    "$$\n",
    "f^{'}(x) = -\\frac{1}{x} \\quad \\implies |f^{'}(x^{*})| = \\frac{1}{x^{*}} = 1.78 > 1 \\quad \\text{for } x^{*} \\approx 0.56 \\in I \n",
    "$$\n",
    "\n",
    "This means $f(x) = -\\ln(x)$ is $\\textbf{divergent}$ since all $x \\in I$ are less than $1$, hence their reciprocals are greater than $1$. \n",
    "\n",
    "Then for $ f(x) = e^{-x}$\n",
    "\n",
    "$$\n",
    "f^{'}(x) = -e^{-x} \\quad \\implies |f^{'}(x^{*})| = e^{-x^{*}} = 0.57 < 1  \\quad \\text{ for } x^{*}\\approx 0.56 \\in I\n",
    "$$\n",
    "\n",
    "So this scheme $ f(x) = e^{-x}$ is $\\textbf{convergent locally linearly}$.\n",
    "\n",
    "Finally, for the scheme $ f(x) = \\frac{1}{2}(x + e^{-x})$,\n",
    "\n",
    "$$\n",
    "f^{'}(x) = \\frac{1}{2}(1 - e^{-x}) \\quad \\implies |f^{'}(x^{*})| = 0.5(1 - e^{-x^{*}}) = 0.21 < 1  \\quad \\text{ for }  x^{*} \\approx 0.56\\in I\n",
    "$$\n",
    "\n",
    "Hence this scheme is also $\\textbf{convergent locally linearly}$, but more faster."
   ]
  },
  {
   "cell_type": "markdown",
   "metadata": {},
   "source": [
    "### $2.2 \\quad \\text{Building a Scheme that is Second Order Convergent}$ 💡"
   ]
  },
  {
   "cell_type": "markdown",
   "metadata": {},
   "source": [
    "Given the following,\n",
    "\n",
    "$$ x^{k+1} = \\frac{a x^k +  \\exp(- x^k)}{a+1} \\qquad \\text{ and } \\qquad x^{k+1} = \\frac{a_k x^k +  \\exp(- x^k)}{a_k+1}. $$\n",
    "\n",
    "Where $a_k = a(x^k)$ may depend on $x^k$\n",
    "\n",
    "To achieve quadratic convergence, we use the condition that at $x^{*}$\n",
    "$$\n",
    "|f^{'}(x^{*})| = 0\n",
    "$$\n",
    "\n",
    "$\\textbf{Firstly}$, for the first case when $a$ is independent of $x$ that is, $(a_k = a)$ $f(x) =  \\frac{a x +  \\exp(-x)}{a+1} $\n",
    "\n",
    "$$\n",
    "f^{'}(x) = \\frac{a - e^{-x}}{a+1} \\implies \\text{at $f^{'}(x^{*}) = 0$}, a = e^{-x^{*}}\n",
    "$$\n",
    "\n",
    "So if we choose $a = e^{-x^{*}} = e^{-0.5671} = 0.5671$, we achieve quadratic convergence in the scheme\n",
    "\n",
    "$$f(x^k) =  \\frac{a x^k +  \\exp(-x^k)}{a+1} $$\n",
    "\n",
    "\n",
    "$\\textbf{Secondly}$, when $a_k = a(x^k)$, we can choose $a_k = e^{-x^k}$ using ideas from the just concluded choice of $a$, such that the scheme is\n",
    "\n",
    "$$\n",
    "f(x_k) = \\frac{ x^ke^{-x^k} +  e^{- x^k}}{e^{-k}+1}\n",
    "$$\n",
    "\n",
    "We can show that this method converges quadratically by showing that $f^{'}(x^{*}) = 0$\n",
    "\n",
    "\n",
    "$$\n",
    "f(x) = \\frac{ xe^{-x} +  e^{- x}}{e^{-k}+1} = \\frac{ x + 1 }{1+e^x}\n",
    "$$\n",
    "\n",
    "Differentiating, we get\n",
    "\n",
    "$$\n",
    "f^{'}(x) = \\frac{1 - xe^{x}}{(1 + e^x)^2}\n",
    "$$\n",
    "\n",
    "Checking the value at $x^{*}$, (we can show from $x + \\ln{(x)} = 0$ that $x^{*}= e^{x^{*}}$ which have a numerical value of $x^{*} \\approx 0.5671$. If we substitute this into $f^{'}$, we get\n",
    "\n",
    "$$\n",
    "f^{'}(x^{*}) = \\frac{1 - x^{*}e^{x^{*}}}{(1 + e^{x^{*}})^2} = \\frac{1 - e^{-x^{*}}e^{x^{*}}}{(1 + e^{x^{*}})^2} = \\frac{1 - 1}{(1 + e^{x^{*}})^2} = 0\n",
    "$$\n",
    "\n",
    "Hence the scheme $$\n",
    "x_{k+1} = f(x_k) = \\frac{ x^{k}e^{-x^k} +  e^{- x^k}}{e^{-x^k}+1}\n",
    "$$ converges quadratically for $a_k = e^{-x^k}$"
   ]
  },
  {
   "cell_type": "markdown",
   "metadata": {},
   "source": [
    "## Exercise 3: Newton's method (6 + 6 points)\n",
    "\n",
    "Implement Newton's method to identify the root of\n",
    "$$ f(x) = \\frac{x}{\\sqrt{x^2+1}} $$\n",
    "with the starting values $x^0 \\in \\{0.9, 1.0, 1.1 \\}$ use a tolerance of $10^{-14}$ and a maximum number of $1000$ iterations. Afterward globalize the method by implementing the so-called Armijo rule, and test the convergence of this improved Newton method. Find values for $\\alpha$ and $\\beta$ such that the globalized method converges for all three starting values.\n",
    "\n",
    "Pseudo-code for the Armijo rule:\n",
    "\n",
    "1. **Input:** $\\alpha, \\beta \\in (0,1)$, original Newton update $\\tilde \\delta^{(k)}$\n",
    "2. $i \\gets 1$, $\\lambda^{(k)} \\gets 1$ \n",
    "3. Repeat: If $\\| f(x^{(k)} + \\lambda_k \\tilde{\\delta}^{(k)}) \\| \\ge (1 - \\alpha \\lambda_k) \\| f (x^{(k)}) \\|$ then $\\lambda_k \\gets \\beta \\lambda_k$\n",
    "4. Until $\\| f(x^{(k)} + \\lambda_k \\tilde{\\delta}^{(k)}) \\| < (1 - \\alpha \\lambda_k) \\| f (x^{(k)}) \\|$\n",
    "5. $x^{(k+1)} \\gets x^{(k)} + \\lambda_k \\tilde{\\delta}^{(k)}$"
   ]
  },
  {
   "cell_type": "markdown",
   "metadata": {},
   "source": [
    "# $\\text{Solution 3}$"
   ]
  },
  {
   "cell_type": "markdown",
   "metadata": {},
   "source": [
    "First we implement the derivative of the funtion\n",
    "$$\n",
    "f(x) = \\frac{x}{\\sqrt{x^2 + 1}}\n",
    "$$\n",
    "\n",
    "Differentiating with quotiet rule\n",
    "\n",
    "$$\n",
    "f^{'} (x) = \\frac{\\sqrt{x^2 + 1} \\cdot(1) - x \\cdot\\big(\\sqrt{x^2 + 1}\\big)^{-1} }{\\sqrt{x^2 + 1} } = \\frac{\\sqrt{x^2 + 1} - \\frac{x^2}{\\sqrt{x^2 + 1}}}{\\sqrt{x^2 + 1}}\n",
    "$$\n",
    "\n",
    "Simplifying we get\n",
    "\n",
    "$$\n",
    "f^{'}(x) = \\frac{1}{\\big[ \\sqrt{x^2 + 1} \\big]^{3}}\n",
    "$$"
   ]
  },
  {
   "cell_type": "markdown",
   "metadata": {},
   "source": [
    "### $3.1 \\quad \\text{A plot of } f(x)$"
   ]
  },
  {
   "cell_type": "markdown",
   "metadata": {},
   "source": [
    "We can visualize the function to see how it behaves, peharps, if it has some roots or fixed points."
   ]
  },
  {
   "cell_type": "code",
   "execution_count": 168,
   "metadata": {},
   "outputs": [
    {
     "data": {
      "image/png": "[encoded data removed]",
      "text/plain": [
       "<Figure size 1080x432 with 1 Axes>"
      ]
     },
     "metadata": {
      "needs_background": "light"
     },
     "output_type": "display_data"
    }
   ],
   "source": [
    "import numpy as np\n",
    "import matplotlib.pyplot as plt\n",
    "\n",
    "# Define the function\n",
    "def f(x):\n",
    "    return x / np.sqrt(x**2 + 1)\n",
    "\n",
    "x = np.linspace(-20, 20, 500)\n",
    "\n",
    "# Plot\n",
    "plt.figure(figsize=(15, 6))\n",
    "plt.plot(x, f(x), label=r\"$\\frac{x}{\\sqrt{x^2 + 1}}$\")\n",
    "plt.axhline(0, color=\"black\", linewidth=0.5)\n",
    "plt.axvline(0, color=\"black\", linewidth=0.5)\n",
    "plt.legend()\n",
    "plt.grid()\n",
    "plt.show()"
   ]
  },
  {
   "cell_type": "markdown",
   "metadata": {},
   "source": [
    "From the plot, we see that this function $f(x)$ has one fixed point, $\\xi = 0$. We can verify that\n",
    "$$\n",
    "f(\\xi) = \\xi\n",
    "$$\n",
    "\n",
    "Since $\\xi = 0$\n",
    "\n",
    "$$\n",
    "f(0) = \\frac{0}{\\sqrt{0^2 + 1}} = 0\n",
    "$$"
   ]
  },
  {
   "cell_type": "markdown",
   "metadata": {},
   "source": [
    "### $3.2 \\quad \\text{Defining the Function and its First Derivative}: f(x), f^{'}(x)$"
   ]
  },
  {
   "cell_type": "code",
   "execution_count": null,
   "metadata": {},
   "outputs": [],
   "source": [
    "import math\n",
    "\n",
    "def f(x):\n",
    "    return x / math.sqrt(x**2 + 1)\n",
    "\n",
    "def f_prime(x):\n",
    "    return 1 / (math.sqrt(x**2 + 1))**3"
   ]
  },
  {
   "cell_type": "markdown",
   "metadata": {},
   "source": [
    "### $3.3 \\quad \\text{Implementing Newton's Standard Method and Testing}$"
   ]
  },
  {
   "cell_type": "code",
   "execution_count": 114,
   "metadata": {},
   "outputs": [],
   "source": [
    "def newtons(f, dfdx, x0, epsilon=1e-14, cut_off=1000):\n",
    "    \"\"\"\n",
    "    Standard Newton's Method:\n",
    "    \"\"\"\n",
    "    x = x0\n",
    "    k = 1\n",
    "    while k <= cut_off:\n",
    "        fx = f(x)\n",
    "        m = dfdx(x)\n",
    "        if abs(fx) < epsilon:\n",
    "            return x, k\n",
    "        x -= fx / m\n",
    "        k += 1\n",
    "    if k >= cut_off:\n",
    "        return x, k #overflow"
   ]
  },
  {
   "cell_type": "code",
   "execution_count": 100,
   "metadata": {},
   "outputs": [
    {
     "name": "stdout",
     "output_type": "stream",
     "text": [
      "Standard Newton's Method:\n",
      "\t\n",
      "------------------------------------------------------------------------------------------------------------------------\n",
      "With x0 =  0.9, Newton's method converges to 0.000000000000000 after 7 iterations.\n",
      "Newton's method does not converge for x0 = 1.00000000000000. The root gives -8.14645068557119e290 after 40 iterations.\n",
      "Newton's method does not converge for x0 = 1.10000000000000. The root gives 3.77926480540060e271 after 9 iterations.\n",
      "------------------------------------------------------------------------------------------------------------------------\n"
     ]
    }
   ],
   "source": [
    "# Testing Newton's Method\n",
    "x0_values = [0.9, 1.0, 1.1]\n",
    "\n",
    "print(\"Standard Newton's Method:\")\n",
    "print(\"\\t\")\n",
    "print(\"-\"*120)\n",
    "for x0 in x0_values:\n",
    "    root, k_run = newtons(f, f_prime, x0)\n",
    "    \n",
    "    if abs(root) > 10e2:\n",
    "        print(f\"Newton's method does not converge for x0 = {x0}. The root gives {root} after {k_run} iterations.\")\n",
    "    else:\n",
    "        print(f\"With x0 = {x0 : .1f}, Newton's method converges to {root:} after {k_run} iterations.\")\n",
    "print(\"-\"*120)"
   ]
  },
  {
   "cell_type": "markdown",
   "metadata": {},
   "source": [
    "### $3.3 \\quad \\text{Endowing Newton's Method with the Armijo's Rule}$"
   ]
  },
  {
   "cell_type": "code",
   "execution_count": 190,
   "metadata": {},
   "outputs": [],
   "source": [
    "def globalized_newtons(f, dfdx, x0, alpha, beta, epsilon=1e-14, cut_off=1000):\n",
    "    \"\"\"\n",
    "    Globalized Newton's Method with Armijo Rule\n",
    "    \"\"\"\n",
    "    x = x0\n",
    "    k = 1\n",
    "    while k <= cut_off:\n",
    "        fx = f(x)\n",
    "        m = dfdx(x)\n",
    "        if abs(fx) < epsilon:\n",
    "            return x, k\n",
    "        delta = -fx / m\n",
    "        lambda_k = 1\n",
    "        while abs(f(x + lambda_k * delta)) >= (1 - alpha * lambda_k) * abs(fx):\n",
    "            lambda_k *= beta\n",
    "        x += lambda_k * delta\n",
    "        k += 1\n",
    "    if k >= cut_off:\n",
    "        return x, k #overflow"
   ]
  },
  {
   "cell_type": "markdown",
   "metadata": {},
   "source": [
    "### $3.3 \\quad \\text{Finding the best Alpha and Beta for Convergence}$"
   ]
  },
  {
   "cell_type": "code",
   "execution_count": 193,
   "metadata": {},
   "outputs": [
    {
     "name": "stdout",
     "output_type": "stream",
     "text": [
      "\n",
      "Globalized Newton's Method with Armijo Rule:\n",
      "\t\n",
      "------------------------------------------------------------------------------------------\n",
      "With x0 =  0.9, the improved method converges to 1.60347572079975e-17 after 5 iterations\n",
      "With x0 =  1.0, the improved method converges to 0.000000000000000 after 6 iterations\n",
      "With x0 =  1.1, the improved method converges to 0.000000000000000 after 6 iterations\n",
      "------------------------------------------------------------------------------------------\n"
     ]
    }
   ],
   "source": [
    "# Testing the methods\n",
    "x0_values = [0.9, 1.0, 1.1]\n",
    "alpha, beta = 0.6, 0.5 # chosen at random\n",
    "\n",
    "print(\"\\nGlobalized Newton's Method with Armijo Rule:\")\n",
    "print(\"\\t\")\n",
    "print(\"-\"*90)\n",
    "for x0 in x0_values:\n",
    "    root, k_run = globalized_newtons(f, f_prime, x0, alpha, beta)\n",
    "    if abs(root) > 10e2:\n",
    "        print(f\"Newton's method does not converge for x0 = {x0}. The root gives {root} after {k_run} iterations.\")\n",
    "    else:\n",
    "        print(f\"With x0 = {x0: .1f}, the improved method converges to {root} after {k_run} iterations\")\n",
    "print(\"-\"*90)"
   ]
  },
  {
   "cell_type": "markdown",
   "metadata": {},
   "source": [
    "I chose $\\alpha$ and $\\beta$ at random, but I can choose it calculatively, with the algorithm below. The algorithm will help us find the pairs of alpha and beta that converges to the fixed point $0$."
   ]
  },
  {
   "cell_type": "code",
   "execution_count": 194,
   "metadata": {},
   "outputs": [
    {
     "data": {
      "text/plain": [
       "[(0.3, 0.1), (0.4, 0.1), (0.5, 0.9), (0.8, 0.1), (0.8, 0.2), (0.9, 0.9)]"
      ]
     },
     "execution_count": 194,
     "metadata": {},
     "output_type": "execute_result"
    }
   ],
   "source": [
    "import numpy as np\n",
    "\n",
    "alpha_range = np.arange(0.1, 0.6, 0.1)\n",
    "beta_range = np.arange(0.1, 0.6, 0.1)\n",
    "\n",
    "x0_values = [0.9, 1.0, 1.1]\n",
    "\n",
    "\n",
    "def find_possible_pairs(start_values, upto=0.5):\n",
    "    \n",
    "    \"\"\"\n",
    "    This function helps to find the best pairs of alpha and beta that ensures convergence.\n",
    "    Standard materials recommend alpha, beta <= 0.5\n",
    "    \n",
    "    Input:\n",
    "    upto ->  The upper bound for search of alpha and beta, e.g. 0.5 (default)\n",
    "    start_values -> An array containing start values or individual inputs of start values\n",
    "    \n",
    "    Output:\n",
    "    An array of optimal pairs.\n",
    "    \"\"\"\n",
    "    alpha_range = np.arange(0.1, upto, 0.1)\n",
    "    beta_range = np.arange(0.1, upto, 0.1)\n",
    "    best_pairs = [] # a tuple of possible combinations of alpha and beta for convergence.\n",
    "    \n",
    "    x0_values = start_values\n",
    "    \n",
    "    for alpha in alpha_range:\n",
    "        for beta in beta_range:\n",
    "\n",
    "            root_arr = [globalized_newtons(f, f_prime, x0, alpha, beta) for x0 in x0_values]\n",
    "\n",
    "            if all(abs(v[0]) == 0 for v in root_arr):\n",
    "                best_pairs.append((round(alpha, 2), round(beta, 2)))\n",
    "\n",
    "    return best_pairs\n",
    "\n",
    "find_possible_pairs(x0_values, 1)"
   ]
  },
  {
   "cell_type": "markdown",
   "metadata": {},
   "source": [
    "To test who all these pairs influences the function for each $x_0$ start values, we use the code below."
   ]
  },
  {
   "cell_type": "code",
   "execution_count": 195,
   "metadata": {},
   "outputs": [
    {
     "data": {
      "text/plain": [
       "[['When x = 0.9',\n",
       "  {'results': (0.000000000000000, 8), 'alpha-beta-pair': (0.3, 0.1)},\n",
       "  {'results': (0.000000000000000, 8), 'alpha-beta-pair': (0.4, 0.1)},\n",
       "  {'results': (0.000000000000000, 7), 'alpha-beta-pair': (0.5, 0.9)},\n",
       "  {'results': (0.000000000000000, 10), 'alpha-beta-pair': (0.8, 0.1)},\n",
       "  {'results': (0.000000000000000, 7), 'alpha-beta-pair': (0.8, 0.2)},\n",
       "  {'results': (0.000000000000000, 6), 'alpha-beta-pair': (0.9, 0.9)}],\n",
       " ['When x = 1.0',\n",
       "  {'results': (0.000000000000000, 8), 'alpha-beta-pair': (0.3, 0.1)},\n",
       "  {'results': (0.000000000000000, 8), 'alpha-beta-pair': (0.4, 0.1)},\n",
       "  {'results': (0.000000000000000, 7), 'alpha-beta-pair': (0.5, 0.9)},\n",
       "  {'results': (0.000000000000000, 11), 'alpha-beta-pair': (0.8, 0.1)},\n",
       "  {'results': (0.000000000000000, 7), 'alpha-beta-pair': (0.8, 0.2)},\n",
       "  {'results': (0.000000000000000, 6), 'alpha-beta-pair': (0.9, 0.9)}],\n",
       " ['When x = 1.1',\n",
       "  {'results': (0.000000000000000, 8), 'alpha-beta-pair': (0.3, 0.1)},\n",
       "  {'results': (0.000000000000000, 8), 'alpha-beta-pair': (0.4, 0.1)},\n",
       "  {'results': (0.000000000000000, 7), 'alpha-beta-pair': (0.5, 0.9)},\n",
       "  {'results': (0.000000000000000, 11), 'alpha-beta-pair': (0.8, 0.1)},\n",
       "  {'results': (0.000000000000000, 7), 'alpha-beta-pair': (0.8, 0.2)},\n",
       "  {'results': (0.000000000000000, 6), 'alpha-beta-pair': (0.9, 0.9)}]]"
      ]
     },
     "execution_count": 195,
     "metadata": {},
     "output_type": "execute_result"
    }
   ],
   "source": [
    "# We want to return {results : alpha-beta-pair} here, where results is the converged value (root) and number of iterations\n",
    "# while the alpha beta pair is the alpha, beta respectively that yielded the result in the Globalized function.\n",
    "ans = []\n",
    "for x in x0_values:\n",
    "    ans.append([f\"When x = {x:.1f}\"] + [{'results' : globalized_newtons(f, f_prime, x, alpha, beta), 'alpha-beta-pair' : (float(f\"{alpha:.1f}\"), float(f\"{beta: .1f}\"))} for alpha, beta in find_possible_pairs(x0_values, 1)])\n",
    "    \n",
    "ans"
   ]
  },
  {
   "cell_type": "markdown",
   "metadata": {},
   "source": [
    "All these $\\alpha$, $\\beta$ in the discrete interval $[0.1, 0.9]$ causes the Globalized Newton's algorithm above to converge to the fixed point $0$ under 10 iterations (pretty fast), as we can seen in results above."
   ]
  },
  {
   "cell_type": "code",
   "execution_count": 187,
   "metadata": {},
   "outputs": [
    {
     "data": {
      "text/plain": [
       "(0.000000000000000, 7)"
      ]
     },
     "execution_count": 187,
     "metadata": {},
     "output_type": "execute_result"
    }
   ],
   "source": [
    "# You can add more tests here.\n",
    "\n",
    "# globalized_newtons(f, f_prime, x0, 0.5, 0.9)"
   ]
  }
 ],
 "metadata": {
  "kernelspec": {
   "display_name": "SageMath 9.5",
   "language": "sage",
   "name": "sagemath"
  },
  "language_info": {
   "codemirror_mode": {
    "name": "ipython",
    "version": 3
   },
   "file_extension": ".py",
   "mimetype": "text/x-python",
   "name": "python",
   "nbconvert_exporter": "python",
   "pygments_lexer": "ipython3",
   "version": "3.10.12"
  }
 },
 "nbformat": 4,
 "nbformat_minor": 2
}
